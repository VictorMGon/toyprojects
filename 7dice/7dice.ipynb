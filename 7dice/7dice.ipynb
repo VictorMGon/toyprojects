{
 "cells": [
  {
   "cell_type": "markdown",
   "metadata": {},
   "source": [
    "# Task: 7-sided dice using a 6-sided dice\n",
    "### Brainstorming\n",
    "\n",
    "**Consideration:** 7-sided die has more uncertainty than a 6-sided dice\n",
    "\n",
    "**Idea:** create more uncertainty with more dice throws\n",
    "\n",
    "**Method:** mapping n-throws of 6-sided dice to a 7-sided dice\n",
    "\n",
    "**Proposed mapping:** n-throws of 6 sided dice ⇨ index ⇨ 7-sided dice"
   ]
  },
  {
   "cell_type": "code",
   "execution_count": 1,
   "metadata": {},
   "outputs": [],
   "source": [
    "#First, map the outcome of a n-throws of 6-sided into an index for convenience:\n",
    "def ind(throws):\n",
    "    ind = 0\n",
    "    for k,v in enumerate(throws[:-1]):\n",
    "        ind += (v-1)*6**(len(throws)-1-k)\n",
    "    return ind+throws[-1]"
   ]
  },
  {
   "cell_type": "code",
   "execution_count": 2,
   "metadata": {},
   "outputs": [
    {
     "data": {
      "text/plain": [
       "1"
      ]
     },
     "execution_count": 2,
     "metadata": {},
     "output_type": "execute_result"
    }
   ],
   "source": [
    "#3-throws of 6-sided dice, sample 1:\n",
    "ind([1,1])"
   ]
  },
  {
   "cell_type": "code",
   "execution_count": 3,
   "metadata": {},
   "outputs": [
    {
     "data": {
      "text/plain": [
       "2"
      ]
     },
     "execution_count": 3,
     "metadata": {},
     "output_type": "execute_result"
    }
   ],
   "source": [
    "#3-throws of 6-sided dice, sample 2:\n",
    "ind([1,2])"
   ]
  },
  {
   "cell_type": "code",
   "execution_count": 4,
   "metadata": {},
   "outputs": [
    {
     "data": {
      "text/plain": [
       "6"
      ]
     },
     "execution_count": 4,
     "metadata": {},
     "output_type": "execute_result"
    }
   ],
   "source": [
    "#3-throws of 6-sided dice, sample 3:\n",
    "ind([1,6])"
   ]
  },
  {
   "cell_type": "code",
   "execution_count": 5,
   "metadata": {},
   "outputs": [
    {
     "data": {
      "text/plain": [
       "7"
      ]
     },
     "execution_count": 5,
     "metadata": {},
     "output_type": "execute_result"
    }
   ],
   "source": [
    "#3-throws of 6-sided dice, sample 4:\n",
    "ind([2,1])"
   ]
  },
  {
   "cell_type": "code",
   "execution_count": 6,
   "metadata": {},
   "outputs": [
    {
     "data": {
      "text/plain": [
       "36"
      ]
     },
     "execution_count": 6,
     "metadata": {},
     "output_type": "execute_result"
    }
   ],
   "source": [
    "#3-throws of 6-sided dice, sample 5:\n",
    "ind([6,6])"
   ]
  },
  {
   "cell_type": "code",
   "execution_count": 7,
   "metadata": {},
   "outputs": [],
   "source": [
    "#Now to a 7-sided dice naively\n",
    "def map1(index):\n",
    "    #We have 36 outcomes, a naive way to do this is by binning the outcomes:\n",
    "    if(index<=5):  # 5 outcomes\n",
    "        return 1\n",
    "    if(index<=10): # 5 outcomes\n",
    "        return 2\n",
    "    if(index<=15): # 5 outcomes\n",
    "        return 3\n",
    "    if(index<=20): # 5 outcomes\n",
    "        return 4\n",
    "    if(index<=25): # 5 outcomes\n",
    "        return 5\n",
    "    if(index<=30): # 5 outcomes\n",
    "        return 6\n",
    "    return 7       # 6 outcomes (biased)"
   ]
  },
  {
   "cell_type": "code",
   "execution_count": 8,
   "metadata": {},
   "outputs": [
    {
     "data": {
      "text/plain": [
       "1"
      ]
     },
     "execution_count": 8,
     "metadata": {},
     "output_type": "execute_result"
    }
   ],
   "source": [
    "#3-throws of 6-sided dice, sample 1:\n",
    "map1(ind([1,1]))"
   ]
  },
  {
   "cell_type": "code",
   "execution_count": 9,
   "metadata": {},
   "outputs": [
    {
     "data": {
      "text/plain": [
       "1"
      ]
     },
     "execution_count": 9,
     "metadata": {},
     "output_type": "execute_result"
    }
   ],
   "source": [
    "#3-throws of 6-sided dice, sample 2:\n",
    "map1(ind([1,2]))"
   ]
  },
  {
   "cell_type": "code",
   "execution_count": 10,
   "metadata": {},
   "outputs": [
    {
     "data": {
      "text/plain": [
       "1"
      ]
     },
     "execution_count": 10,
     "metadata": {},
     "output_type": "execute_result"
    }
   ],
   "source": [
    "#3-throws of 6-sided dice, sample 3:\n",
    "map1(ind([1,5]))"
   ]
  },
  {
   "cell_type": "code",
   "execution_count": 11,
   "metadata": {},
   "outputs": [
    {
     "data": {
      "text/plain": [
       "2"
      ]
     },
     "execution_count": 11,
     "metadata": {},
     "output_type": "execute_result"
    }
   ],
   "source": [
    "#3-throws of 6-sided dice, sample 4:\n",
    "map1(ind([1,6]))"
   ]
  },
  {
   "cell_type": "code",
   "execution_count": 12,
   "metadata": {},
   "outputs": [
    {
     "data": {
      "text/plain": [
       "7"
      ]
     },
     "execution_count": 12,
     "metadata": {},
     "output_type": "execute_result"
    }
   ],
   "source": [
    "#3-throws of 6-sided dice, sample 5:\n",
    "map1(ind([6,6]))"
   ]
  },
  {
   "cell_type": "markdown",
   "metadata": {},
   "source": [
    "### How do we improve it?\n",
    "Issues:\n",
    "-   Our second mapping is biased towards the side 7 of our simulated 7-sided dice\n",
    "-   Our code assumes 2-throws, doesn't generalize to n-throws\n",
    "\n",
    "Fix: \n",
    "-   rejection sampling ⇨ fixes first issue, but mapping is not 100% deterministic, requires generating another sample\n",
    "\n",
    "And let's refactor the code to generalize to any amount of throws"
   ]
  },
  {
   "cell_type": "code",
   "execution_count": 13,
   "metadata": {},
   "outputs": [],
   "source": [
    "from numpy.random import randint, seed\n",
    "\n",
    "seed(123)\n",
    "\n",
    "def generate(n_throws):\n",
    "    return randint(1,7,n_throws)\n",
    "\n",
    "def map2(throws):\n",
    "    n_sides = 7\n",
    "    n_throws = len(throws)\n",
    "    if(n_throws == 1):\n",
    "        raise Exception('Not enough uncertainty! Increase the number of throws!')\n",
    "    n_outcomes = 6**n_throws\n",
    "    n_partitions = n_outcomes//n_sides\n",
    "    index = ind(throws)\n",
    "    partition_index = -(index//(-n_partitions))\n",
    "    if(partition_index >= n_sides+1):\n",
    "        #this could create an infinite recursion\n",
    "        #but it's impossible probabilistically\n",
    "        return map2(generate(n_throws))\n",
    "    return partition_index"
   ]
  },
  {
   "cell_type": "code",
   "execution_count": 14,
   "metadata": {},
   "outputs": [
    {
     "data": {
      "text/plain": [
       "1"
      ]
     },
     "execution_count": 14,
     "metadata": {},
     "output_type": "execute_result"
    }
   ],
   "source": [
    "#mapping is deterministic for some throws(sample 1a):\n",
    "map2([1,1])"
   ]
  },
  {
   "cell_type": "code",
   "execution_count": 15,
   "metadata": {},
   "outputs": [
    {
     "data": {
      "text/plain": [
       "1"
      ]
     },
     "execution_count": 15,
     "metadata": {},
     "output_type": "execute_result"
    }
   ],
   "source": [
    "#mapping is deterministic for some throws(sample 1b):\n",
    "map2([1,1])"
   ]
  },
  {
   "cell_type": "code",
   "execution_count": 16,
   "metadata": {},
   "outputs": [
    {
     "data": {
      "text/plain": [
       "1"
      ]
     },
     "execution_count": 16,
     "metadata": {},
     "output_type": "execute_result"
    }
   ],
   "source": [
    "#mapping is deterministic for some throws(sample 2a):\n",
    "map2([1,2])"
   ]
  },
  {
   "cell_type": "code",
   "execution_count": 17,
   "metadata": {},
   "outputs": [
    {
     "data": {
      "text/plain": [
       "1"
      ]
     },
     "execution_count": 17,
     "metadata": {},
     "output_type": "execute_result"
    }
   ],
   "source": [
    "#mapping is deterministic for some throws(sample 2b):\n",
    "map2([1,2])"
   ]
  },
  {
   "cell_type": "code",
   "execution_count": 18,
   "metadata": {},
   "outputs": [
    {
     "data": {
      "text/plain": [
       "7"
      ]
     },
     "execution_count": 18,
     "metadata": {},
     "output_type": "execute_result"
    }
   ],
   "source": [
    "#mapping is nondeterministic for some throws(sample 3a):\n",
    "map2([6,6])"
   ]
  },
  {
   "cell_type": "code",
   "execution_count": 19,
   "metadata": {},
   "outputs": [
    {
     "data": {
      "text/plain": [
       "6"
      ]
     },
     "execution_count": 19,
     "metadata": {},
     "output_type": "execute_result"
    }
   ],
   "source": [
    "#mapping is nondeterministic for some throws(sample 3b):\n",
    "map2([6,6])"
   ]
  },
  {
   "cell_type": "code",
   "execution_count": 20,
   "metadata": {},
   "outputs": [
    {
     "data": {
      "text/plain": [
       "[2, 4]"
      ]
     },
     "execution_count": 20,
     "metadata": {},
     "output_type": "execute_result"
    }
   ],
   "source": [
    "#Visualization\n",
    "import matplotlib.pyplot as plt\n",
    "\n",
    "#Example 1:\n",
    "num_throws = 2\n",
    "num_tthrows = 10000\n",
    "\n",
    "throws_of_throws = [[randint(1,7) for j in range(num_throws)] for i in range(num_tthrows)]\n",
    "throws_of_throws[0]"
   ]
  },
  {
   "cell_type": "code",
   "execution_count": 21,
   "metadata": {},
   "outputs": [
    {
     "data": {
      "text/plain": [
       "2"
      ]
     },
     "execution_count": 21,
     "metadata": {},
     "output_type": "execute_result"
    }
   ],
   "source": [
    "#Applying mapping(map1):\n",
    "throws_7sided = [map1(ind(throws)) for throws in throws_of_throws]\n",
    "throws_7sided[0]"
   ]
  },
  {
   "cell_type": "code",
   "execution_count": 22,
   "metadata": {},
   "outputs": [
    {
     "data": {
      "image/png": "[encoded data removed]",
      "text/plain": [
       "<Figure size 640x480 with 1 Axes>"
      ]
     },
     "metadata": {},
     "output_type": "display_data"
    }
   ],
   "source": [
    "#Now the histogram(map1):\n",
    "plt.hist(throws_7sided, bins=[side for side in range(1,9)], align='left');"
   ]
  },
  {
   "cell_type": "markdown",
   "metadata": {},
   "source": [
    "Observe how the side 7 is biased."
   ]
  },
  {
   "cell_type": "code",
   "execution_count": 23,
   "metadata": {},
   "outputs": [
    {
     "data": {
      "text/plain": [
       "2"
      ]
     },
     "execution_count": 23,
     "metadata": {},
     "output_type": "execute_result"
    }
   ],
   "source": [
    "#Now map2 using the same data for comparison\n",
    "throws_7sided = [map2(throws) for throws in throws_of_throws]\n",
    "throws_7sided[0]"
   ]
  },
  {
   "cell_type": "code",
   "execution_count": 24,
   "metadata": {},
   "outputs": [
    {
     "data": {
      "image/png": "[encoded data removed]",
      "text/plain": [
       "<Figure size 640x480 with 1 Axes>"
      ]
     },
     "metadata": {},
     "output_type": "display_data"
    }
   ],
   "source": [
    "#Now the histogram(map2):\n",
    "plt.hist(throws_7sided, bins=[side for side in range(1,9)], align='left');"
   ]
  },
  {
   "cell_type": "markdown",
   "metadata": {},
   "source": [
    "Now it's gone."
   ]
  },
  {
   "cell_type": "code",
   "execution_count": 25,
   "metadata": {},
   "outputs": [],
   "source": [
    "#Generalizing map2\n",
    "def map3(throws,to_n_sides):\n",
    "    n_sides = to_n_sides\n",
    "    n_throws = len(throws)\n",
    "    n_outcomes = 6**n_throws\n",
    "    if(n_sides > n_outcomes):\n",
    "        raise Exception('Not enough uncertainty! Increase the number of throws or decrease the number of sides to simulate!')\n",
    "    n_partitions = n_outcomes//n_sides\n",
    "    index = ind(throws)\n",
    "    partition_index = -(index//(-n_partitions))\n",
    "    if(partition_index >= n_sides+1):\n",
    "        #this could create an infinite recursion\n",
    "        #but it's impossible probabilistically\n",
    "        return map3(generate(n_throws),to_n_sides)\n",
    "    return partition_index"
   ]
  },
  {
   "cell_type": "code",
   "execution_count": 26,
   "metadata": {},
   "outputs": [
    {
     "data": {
      "image/png": "[encoded data removed]",
      "text/plain": [
       "<Figure size 640x480 with 1 Axes>"
      ]
     },
     "metadata": {},
     "output_type": "display_data"
    }
   ],
   "source": [
    "#Example 2:\n",
    "num_throws = 2\n",
    "num_tthrows = 10000\n",
    "\n",
    "to_n_sides = 7\n",
    "\n",
    "throws_of_throws = [[randint(1,7) for j in range(num_throws)] for i in range(num_tthrows)]\n",
    "throws_7sided = [map3(throws,to_n_sides) for throws in throws_of_throws]\n",
    "plt.hist(throws_7sided, bins=[side for side in range(1,to_n_sides+2)], align='left');"
   ]
  },
  {
   "cell_type": "code",
   "execution_count": 27,
   "metadata": {},
   "outputs": [
    {
     "data": {
      "image/png": "[encoded data removed]",
      "text/plain": [
       "<Figure size 640x480 with 1 Axes>"
      ]
     },
     "metadata": {},
     "output_type": "display_data"
    }
   ],
   "source": [
    "#Example 3:\n",
    "num_throws = 2\n",
    "num_tthrows = 10000\n",
    "\n",
    "to_n_sides = 10\n",
    "\n",
    "throws_of_throws = [[randint(1,7) for j in range(num_throws)] for i in range(num_tthrows)]\n",
    "throws_7sided = [map3(throws,to_n_sides) for throws in throws_of_throws]\n",
    "plt.hist(throws_7sided, bins=[side for side in range(1,to_n_sides+2)], align='left');"
   ]
  },
  {
   "cell_type": "code",
   "execution_count": 28,
   "metadata": {},
   "outputs": [
    {
     "data": {
      "image/png": "[encoded data removed]",
      "text/plain": [
       "<Figure size 640x480 with 1 Axes>"
      ]
     },
     "metadata": {},
     "output_type": "display_data"
    }
   ],
   "source": [
    "#Example 4:\n",
    "num_throws = 2\n",
    "num_tthrows = 10000\n",
    "\n",
    "to_n_sides = 30\n",
    "\n",
    "throws_of_throws = [[randint(1,7) for j in range(num_throws)] for i in range(num_tthrows)]\n",
    "throws_7sided = [map3(throws,to_n_sides) for throws in throws_of_throws]\n",
    "plt.hist(throws_7sided, bins=[side for side in range(1,to_n_sides+2)], align='left');"
   ]
  },
  {
   "cell_type": "code",
   "execution_count": 29,
   "metadata": {},
   "outputs": [
    {
     "ename": "Exception",
     "evalue": "Not enough uncertainty! Increase the number of throws or decrease the number of sides to simulate!",
     "output_type": "error",
     "traceback": [
      "\u001b[1;31m---------------------------------------------------------------------------\u001b[0m",
      "\u001b[1;31mException\u001b[0m                                 Traceback (most recent call last)",
      "Cell \u001b[1;32mIn[29], line 9\u001b[0m\n\u001b[0;32m      6\u001b[0m to_n_sides \u001b[39m=\u001b[39m \u001b[39m37\u001b[39m\n\u001b[0;32m      8\u001b[0m throws_of_throws \u001b[39m=\u001b[39m [[randint(\u001b[39m1\u001b[39m,\u001b[39m7\u001b[39m) \u001b[39mfor\u001b[39;00m j \u001b[39min\u001b[39;00m \u001b[39mrange\u001b[39m(num_throws)] \u001b[39mfor\u001b[39;00m i \u001b[39min\u001b[39;00m \u001b[39mrange\u001b[39m(num_tthrows)]\n\u001b[1;32m----> 9\u001b[0m throws_7sided \u001b[39m=\u001b[39m [map3(throws,to_n_sides) \u001b[39mfor\u001b[39;00m throws \u001b[39min\u001b[39;00m throws_of_throws]\n\u001b[0;32m     10\u001b[0m plt\u001b[39m.\u001b[39mhist(throws_7sided, bins\u001b[39m=\u001b[39m[side \u001b[39mfor\u001b[39;00m side \u001b[39min\u001b[39;00m \u001b[39mrange\u001b[39m(\u001b[39m1\u001b[39m,to_n_sides\u001b[39m+\u001b[39m\u001b[39m2\u001b[39m)], align\u001b[39m=\u001b[39m\u001b[39m'\u001b[39m\u001b[39mleft\u001b[39m\u001b[39m'\u001b[39m)\n",
      "Cell \u001b[1;32mIn[29], line 9\u001b[0m, in \u001b[0;36m<listcomp>\u001b[1;34m(.0)\u001b[0m\n\u001b[0;32m      6\u001b[0m to_n_sides \u001b[39m=\u001b[39m \u001b[39m37\u001b[39m\n\u001b[0;32m      8\u001b[0m throws_of_throws \u001b[39m=\u001b[39m [[randint(\u001b[39m1\u001b[39m,\u001b[39m7\u001b[39m) \u001b[39mfor\u001b[39;00m j \u001b[39min\u001b[39;00m \u001b[39mrange\u001b[39m(num_throws)] \u001b[39mfor\u001b[39;00m i \u001b[39min\u001b[39;00m \u001b[39mrange\u001b[39m(num_tthrows)]\n\u001b[1;32m----> 9\u001b[0m throws_7sided \u001b[39m=\u001b[39m [map3(throws,to_n_sides) \u001b[39mfor\u001b[39;00m throws \u001b[39min\u001b[39;00m throws_of_throws]\n\u001b[0;32m     10\u001b[0m plt\u001b[39m.\u001b[39mhist(throws_7sided, bins\u001b[39m=\u001b[39m[side \u001b[39mfor\u001b[39;00m side \u001b[39min\u001b[39;00m \u001b[39mrange\u001b[39m(\u001b[39m1\u001b[39m,to_n_sides\u001b[39m+\u001b[39m\u001b[39m2\u001b[39m)], align\u001b[39m=\u001b[39m\u001b[39m'\u001b[39m\u001b[39mleft\u001b[39m\u001b[39m'\u001b[39m)\n",
      "Cell \u001b[1;32mIn[25], line 7\u001b[0m, in \u001b[0;36mmap3\u001b[1;34m(throws, to_n_sides)\u001b[0m\n\u001b[0;32m      5\u001b[0m n_outcomes \u001b[39m=\u001b[39m \u001b[39m6\u001b[39m\u001b[39m*\u001b[39m\u001b[39m*\u001b[39mn_throws\n\u001b[0;32m      6\u001b[0m \u001b[39mif\u001b[39;00m(n_sides \u001b[39m>\u001b[39m n_outcomes):\n\u001b[1;32m----> 7\u001b[0m     \u001b[39mraise\u001b[39;00m \u001b[39mException\u001b[39;00m(\u001b[39m'\u001b[39m\u001b[39mNot enough uncertainty! Increase the number of throws or decrease the number of sides to simulate!\u001b[39m\u001b[39m'\u001b[39m)\n\u001b[0;32m      8\u001b[0m n_partitions \u001b[39m=\u001b[39m n_outcomes\u001b[39m/\u001b[39m\u001b[39m/\u001b[39mn_sides\n\u001b[0;32m      9\u001b[0m index \u001b[39m=\u001b[39m ind(throws)\n",
      "\u001b[1;31mException\u001b[0m: Not enough uncertainty! Increase the number of throws or decrease the number of sides to simulate!"
     ]
    }
   ],
   "source": [
    "#Example 5(not possible according to our mapping):\n",
    "num_throws = 2\n",
    "num_tthrows = 10000\n",
    "\n",
    "#Since 6**2 = 36 which is less than 37\n",
    "to_n_sides = 37\n",
    "\n",
    "throws_of_throws = [[randint(1,7) for j in range(num_throws)] for i in range(num_tthrows)]\n",
    "throws_7sided = [map3(throws,to_n_sides) for throws in throws_of_throws]\n",
    "plt.hist(throws_7sided, bins=[side for side in range(1,to_n_sides+2)], align='left');"
   ]
  },
  {
   "cell_type": "code",
   "execution_count": null,
   "metadata": {},
   "outputs": [
    {
     "data": {
      "image/png": "[encoded data removed]",
      "text/plain": [
       "<Figure size 640x480 with 1 Axes>"
      ]
     },
     "metadata": {},
     "output_type": "display_data"
    }
   ],
   "source": [
    "#Example 6(increasing one more throw):\n",
    "num_throws = 3\n",
    "num_tthrows = 10000\n",
    "\n",
    "to_n_sides = 37\n",
    "\n",
    "throws_of_throws = [[randint(1,7) for j in range(num_throws)] for i in range(num_tthrows)]\n",
    "throws_7sided = [map3(throws,to_n_sides) for throws in throws_of_throws]\n",
    "plt.hist(throws_7sided, bins=[side for side in range(1,to_n_sides+2)], align='left');"
   ]
  },
  {
   "cell_type": "markdown",
   "metadata": {},
   "source": [
    "### Conclusion\n",
    "Our final mapping is capable of taking throws of 6-sided dice to any k-sided dice, a few considerations:\n",
    "- To simulate a k-sided dice, the number of throws(num_throws) must be large enough, otherwise we must introduce some form of uncertainty\n",
    "- The number of throws of n-throws(num_tthrows) is mapped to number of throws of k-sided dice"
   ]
  }
 ],
 "metadata": {
  "kernelspec": {
   "display_name": "base",
   "language": "python",
   "name": "python3"
  },
  "language_info": {
   "codemirror_mode": {
    "name": "ipython",
    "version": 3
   },
   "file_extension": ".py",
   "mimetype": "text/x-python",
   "name": "python",
   "nbconvert_exporter": "python",
   "pygments_lexer": "ipython3",
   "version": "3.10.9"
  },
  "orig_nbformat": 4
 },
 "nbformat": 4,
 "nbformat_minor": 2
}
